{
 "cells": [
  {
   "cell_type": "code",
   "execution_count": 1,
   "metadata": {},
   "outputs": [],
   "source": [
    "from p1 import GridWorld2D"
   ]
  },
  {
   "cell_type": "code",
   "execution_count": 2,
   "metadata": {},
   "outputs": [],
   "source": [
    "gw = GridWorld2D(4,3,0.1, initial_state = (0,0,0))"
   ]
  },
  {
   "cell_type": "code",
   "execution_count": 3,
   "metadata": {},
   "outputs": [
    {
     "data": {
      "text/plain": [
       "[0, 0, 0]"
      ]
     },
     "execution_count": 3,
     "metadata": {},
     "output_type": "execute_result"
    }
   ],
   "source": [
    "# Checking my initial state\n",
    "gw.s"
   ]
  },
  {
   "cell_type": "code",
   "execution_count": 4,
   "metadata": {},
   "outputs": [
    {
     "data": {
      "text/plain": [
       "[(0, 0, 0),\n",
       " (0, 0, 1),\n",
       " (0, 0, 2),\n",
       " (0, 0, 3),\n",
       " (0, 0, 4),\n",
       " (0, 0, 5),\n",
       " (0, 0, 6),\n",
       " (0, 0, 7),\n",
       " (0, 0, 8),\n",
       " (0, 0, 9),\n",
       " (0, 0, 10),\n",
       " (0, 0, 11),\n",
       " (0, 1, 0),\n",
       " (0, 1, 1),\n",
       " (0, 1, 2),\n",
       " (0, 1, 3),\n",
       " (0, 1, 4),\n",
       " (0, 1, 5),\n",
       " (0, 1, 6),\n",
       " (0, 1, 7),\n",
       " (0, 1, 8),\n",
       " (0, 1, 9),\n",
       " (0, 1, 10),\n",
       " (0, 1, 11),\n",
       " (0, 2, 0),\n",
       " (0, 2, 1),\n",
       " (0, 2, 2),\n",
       " (0, 2, 3),\n",
       " (0, 2, 4),\n",
       " (0, 2, 5),\n",
       " (0, 2, 6),\n",
       " (0, 2, 7),\n",
       " (0, 2, 8),\n",
       " (0, 2, 9),\n",
       " (0, 2, 10),\n",
       " (0, 2, 11),\n",
       " (1, 0, 0),\n",
       " (1, 0, 1),\n",
       " (1, 0, 2),\n",
       " (1, 0, 3),\n",
       " (1, 0, 4),\n",
       " (1, 0, 5),\n",
       " (1, 0, 6),\n",
       " (1, 0, 7),\n",
       " (1, 0, 8),\n",
       " (1, 0, 9),\n",
       " (1, 0, 10),\n",
       " (1, 0, 11),\n",
       " (1, 1, 0),\n",
       " (1, 1, 1),\n",
       " (1, 1, 2),\n",
       " (1, 1, 3),\n",
       " (1, 1, 4),\n",
       " (1, 1, 5),\n",
       " (1, 1, 6),\n",
       " (1, 1, 7),\n",
       " (1, 1, 8),\n",
       " (1, 1, 9),\n",
       " (1, 1, 10),\n",
       " (1, 1, 11),\n",
       " (1, 2, 0),\n",
       " (1, 2, 1),\n",
       " (1, 2, 2),\n",
       " (1, 2, 3),\n",
       " (1, 2, 4),\n",
       " (1, 2, 5),\n",
       " (1, 2, 6),\n",
       " (1, 2, 7),\n",
       " (1, 2, 8),\n",
       " (1, 2, 9),\n",
       " (1, 2, 10),\n",
       " (1, 2, 11),\n",
       " (2, 0, 0),\n",
       " (2, 0, 1),\n",
       " (2, 0, 2),\n",
       " (2, 0, 3),\n",
       " (2, 0, 4),\n",
       " (2, 0, 5),\n",
       " (2, 0, 6),\n",
       " (2, 0, 7),\n",
       " (2, 0, 8),\n",
       " (2, 0, 9),\n",
       " (2, 0, 10),\n",
       " (2, 0, 11),\n",
       " (2, 1, 0),\n",
       " (2, 1, 1),\n",
       " (2, 1, 2),\n",
       " (2, 1, 3),\n",
       " (2, 1, 4),\n",
       " (2, 1, 5),\n",
       " (2, 1, 6),\n",
       " (2, 1, 7),\n",
       " (2, 1, 8),\n",
       " (2, 1, 9),\n",
       " (2, 1, 10),\n",
       " (2, 1, 11),\n",
       " (2, 2, 0),\n",
       " (2, 2, 1),\n",
       " (2, 2, 2),\n",
       " (2, 2, 3),\n",
       " (2, 2, 4),\n",
       " (2, 2, 5),\n",
       " (2, 2, 6),\n",
       " (2, 2, 7),\n",
       " (2, 2, 8),\n",
       " (2, 2, 9),\n",
       " (2, 2, 10),\n",
       " (2, 2, 11),\n",
       " (3, 0, 0),\n",
       " (3, 0, 1),\n",
       " (3, 0, 2),\n",
       " (3, 0, 3),\n",
       " (3, 0, 4),\n",
       " (3, 0, 5),\n",
       " (3, 0, 6),\n",
       " (3, 0, 7),\n",
       " (3, 0, 8),\n",
       " (3, 0, 9),\n",
       " (3, 0, 10),\n",
       " (3, 0, 11),\n",
       " (3, 1, 0),\n",
       " (3, 1, 1),\n",
       " (3, 1, 2),\n",
       " (3, 1, 3),\n",
       " (3, 1, 4),\n",
       " (3, 1, 5),\n",
       " (3, 1, 6),\n",
       " (3, 1, 7),\n",
       " (3, 1, 8),\n",
       " (3, 1, 9),\n",
       " (3, 1, 10),\n",
       " (3, 1, 11),\n",
       " (3, 2, 0),\n",
       " (3, 2, 1),\n",
       " (3, 2, 2),\n",
       " (3, 2, 3),\n",
       " (3, 2, 4),\n",
       " (3, 2, 5),\n",
       " (3, 2, 6),\n",
       " (3, 2, 7),\n",
       " (3, 2, 8),\n",
       " (3, 2, 9),\n",
       " (3, 2, 10),\n",
       " (3, 2, 11)]"
      ]
     },
     "execution_count": 4,
     "metadata": {},
     "output_type": "execute_result"
    }
   ],
   "source": [
    "# Checking all states\n",
    "gw.S"
   ]
  },
  {
   "cell_type": "code",
   "execution_count": 5,
   "metadata": {},
   "outputs": [
    {
     "ename": "AttributeError",
     "evalue": "GridWorld2D instance has no attribute '__action'",
     "output_type": "error",
     "traceback": [
      "\u001b[1;31m---------------------------------------------------------------------------\u001b[0m",
      "\u001b[1;31mAttributeError\u001b[0m                            Traceback (most recent call last)",
      "\u001b[1;32m<ipython-input-5-076e47b02e0e>\u001b[0m in \u001b[0;36m<module>\u001b[1;34m()\u001b[0m\n\u001b[0;32m      1\u001b[0m \u001b[1;31m# Check if i can access private functions\u001b[0m\u001b[1;33m\u001b[0m\u001b[1;33m\u001b[0m\u001b[0m\n\u001b[1;32m----> 2\u001b[1;33m \u001b[0mgw\u001b[0m\u001b[1;33m.\u001b[0m\u001b[0m__action\u001b[0m\u001b[1;33m(\u001b[0m\u001b[1;34m'no action'\u001b[0m\u001b[1;33m)\u001b[0m\u001b[1;33m\u001b[0m\u001b[0m\n\u001b[0m",
      "\u001b[1;31mAttributeError\u001b[0m: GridWorld2D instance has no attribute '__action'"
     ]
    }
   ],
   "source": [
    "# Check if i can access private functions\n",
    "gw.__action('no action')"
   ]
  },
  {
   "cell_type": "code",
   "execution_count": 6,
   "metadata": {},
   "outputs": [
    {
     "data": {
      "text/plain": [
       "[0, 0, 11]"
      ]
     },
     "execution_count": 6,
     "metadata": {},
     "output_type": "execute_result"
    }
   ],
   "source": [
    "# Trying to move out towards wall\n",
    "gw.user_defined_action('backward', 'no rotation')\n",
    "gw.s"
   ]
  },
  {
   "cell_type": "code",
   "execution_count": 7,
   "metadata": {},
   "outputs": [
    {
     "data": {
      "text/plain": [
       "[0, 1, 0]"
      ]
     },
     "execution_count": 7,
     "metadata": {},
     "output_type": "execute_result"
    }
   ],
   "source": [
    "# move up rotate right\n",
    "gw.user_defined_action('forward', 'right')\n",
    "gw.s"
   ]
  },
  {
   "cell_type": "code",
   "execution_count": 8,
   "metadata": {},
   "outputs": [
    {
     "data": {
      "text/plain": [
       "[2, 1, 11]"
      ]
     },
     "execution_count": 8,
     "metadata": {},
     "output_type": "execute_result"
    }
   ],
   "source": [
    "gw.s = [2,2,0]\n",
    "gw.user_defined_action('backward', 'left')\n",
    "gw.s"
   ]
  },
  {
   "cell_type": "code",
   "execution_count": 9,
   "metadata": {},
   "outputs": [
    {
     "data": {
      "text/plain": [
       "[2, 2, 4]"
      ]
     },
     "execution_count": 9,
     "metadata": {},
     "output_type": "execute_result"
    }
   ],
   "source": [
    "gw.s = [2,2,5]\n",
    "gw.user_defined_action('backward', 'left')\n",
    "gw.s"
   ]
  },
  {
   "cell_type": "code",
   "execution_count": 10,
   "metadata": {},
   "outputs": [
    {
     "data": {
      "text/plain": [
       "[3, 2, 3]"
      ]
     },
     "execution_count": 10,
     "metadata": {},
     "output_type": "execute_result"
    }
   ],
   "source": [
    "gw.s = [2,2,5]\n",
    "gw.user_defined_action('forward', 'left')\n",
    "gw.s"
   ]
  },
  {
   "cell_type": "code",
   "execution_count": 11,
   "metadata": {},
   "outputs": [
    {
     "data": {
      "text/plain": [
       "[2, 2, 0]"
      ]
     },
     "execution_count": 11,
     "metadata": {},
     "output_type": "execute_result"
    }
   ],
   "source": [
    "gw.s = [2,1,11]\n",
    "gw.user_defined_action('forward', 'right')\n",
    "gw.s"
   ]
  },
  {
   "cell_type": "code",
   "execution_count": 12,
   "metadata": {},
   "outputs": [
    {
     "data": {
      "text/plain": [
       "[2, 0, 11]"
      ]
     },
     "execution_count": 12,
     "metadata": {},
     "output_type": "execute_result"
    }
   ],
   "source": [
    "gw.s = [2,1,11]\n",
    "gw.random_action()\n",
    "gw.s"
   ]
  },
  {
   "cell_type": "code",
   "execution_count": 13,
   "metadata": {},
   "outputs": [
    {
     "data": {
      "text/plain": [
       "[2, 1, 10]"
      ]
     },
     "execution_count": 13,
     "metadata": {},
     "output_type": "execute_result"
    }
   ],
   "source": [
    "gw.s = [2,1,11]\n",
    "gw.random_action()\n",
    "gw.s"
   ]
  },
  {
   "cell_type": "code",
   "execution_count": 14,
   "metadata": {},
   "outputs": [
    {
     "data": {
      "text/plain": [
       "[2, 1, 11]"
      ]
     },
     "execution_count": 14,
     "metadata": {},
     "output_type": "execute_result"
    }
   ],
   "source": [
    "# No action should not consider rotation at all\n",
    "gw.s = [2,1,11]\n",
    "gw.user_defined_action('no action', 'right')\n",
    "gw.s"
   ]
  },
  {
   "cell_type": "code",
   "execution_count": 3,
   "metadata": {},
   "outputs": [
    {
     "data": {
      "text/plain": [
       "0"
      ]
     },
     "execution_count": 3,
     "metadata": {},
     "output_type": "execute_result"
    }
   ],
   "source": [
    "gw.transition_probability(0.1, [0,0,0], ['no action', 'blah'], [2,2,2])"
   ]
  },
  {
   "cell_type": "code",
   "execution_count": 4,
   "metadata": {},
   "outputs": [
    {
     "data": {
      "text/plain": [
       "1"
      ]
     },
     "execution_count": 4,
     "metadata": {},
     "output_type": "execute_result"
    }
   ],
   "source": [
    "gw.transition_probability(0.1, [0,0,0], ['no action', 'blah'], [0,0,0])"
   ]
  },
  {
   "cell_type": "code",
   "execution_count": 5,
   "metadata": {},
   "outputs": [
    {
     "data": {
      "text/plain": [
       "0.1"
      ]
     },
     "execution_count": 5,
     "metadata": {},
     "output_type": "execute_result"
    }
   ],
   "source": [
    "gw.transition_probability(0.1, [0,0,5], ['forward', 'left'], [1,0,3])"
   ]
  },
  {
   "cell_type": "code",
   "execution_count": 6,
   "metadata": {},
   "outputs": [
    {
     "data": {
      "text/plain": [
       "0.8"
      ]
     },
     "execution_count": 6,
     "metadata": {},
     "output_type": "execute_result"
    }
   ],
   "source": [
    "gw.transition_probability(0.1, [0,0,5], ['forward', 'left'], [0,0,4])"
   ]
  },
  {
   "cell_type": "code",
   "execution_count": 7,
   "metadata": {},
   "outputs": [
    {
     "data": {
      "text/plain": [
       "0.1"
      ]
     },
     "execution_count": 7,
     "metadata": {},
     "output_type": "execute_result"
    }
   ],
   "source": [
    "gw.transition_probability(0.1, [0,0,5], ['forward', 'left'], [0,0,5])"
   ]
  },
  {
   "cell_type": "code",
   "execution_count": 8,
   "metadata": {},
   "outputs": [
    {
     "data": {
      "text/plain": [
       "0"
      ]
     },
     "execution_count": 8,
     "metadata": {},
     "output_type": "execute_result"
    }
   ],
   "source": [
    "gw.transition_probability(0.1, [0,0,5], ['forward', 'left'], [0,0,7])"
   ]
  },
  {
   "cell_type": "code",
   "execution_count": 9,
   "metadata": {},
   "outputs": [
    {
     "data": {
      "text/plain": [
       "1.0"
      ]
     },
     "execution_count": 9,
     "metadata": {},
     "output_type": "execute_result"
    }
   ],
   "source": [
    "gw.transition_probability(0, [0,0,5], ['forward', 'left'], [0,0,4])"
   ]
  },
  {
   "cell_type": "code",
   "execution_count": 4,
   "metadata": {},
   "outputs": [
    {
     "data": {
      "text/plain": [
       "0"
      ]
     },
     "execution_count": 4,
     "metadata": {},
     "output_type": "execute_result"
    }
   ],
   "source": [
    "gw.transition_probability(0, [0,0,5], ['forward', 'left'], [1,0,3])"
   ]
  },
  {
   "cell_type": "code",
   "execution_count": 5,
   "metadata": {
    "collapsed": true
   },
   "outputs": [
    {
     "name": "stdout",
     "output_type": "stream",
     "text": [
      "[1, 0, 5]\n",
      "[1, 0, 5]\n",
      "[1, 0, 5]\n",
      "[1, 0, 5]\n",
      "[1, 0, 5]\n",
      "[1, 0, 5]\n",
      "[2, 1, 4]\n",
      "[1, 0, 5]\n",
      "[1, 0, 5]\n",
      "[1, 0, 5]\n",
      "[1, 0, 6]\n",
      "[2, 1, 4]\n",
      "[2, 1, 4]\n",
      "[1, 0, 5]\n",
      "[2, 1, 4]\n",
      "[2, 1, 4]\n",
      "[2, 1, 4]\n",
      "[1, 0, 6]\n",
      "[1, 0, 5]\n",
      "[1, 0, 5]\n",
      "[1, 0, 6]\n",
      "[1, 0, 6]\n",
      "[1, 0, 5]\n",
      "[1, 0, 5]\n",
      "[1, 0, 5]\n",
      "[1, 0, 6]\n",
      "[1, 0, 5]\n",
      "[1, 0, 5]\n",
      "[1, 0, 6]\n",
      "[1, 0, 6]\n",
      "[1, 0, 5]\n",
      "[1, 0, 6]\n",
      "[1, 0, 5]\n",
      "[1, 0, 5]\n",
      "[1, 0, 6]\n",
      "[2, 1, 4]\n",
      "[1, 0, 6]\n",
      "[1, 0, 5]\n",
      "[1, 0, 5]\n",
      "[1, 0, 5]\n",
      "[1, 0, 6]\n",
      "[1, 0, 5]\n",
      "[1, 0, 5]\n",
      "[2, 1, 4]\n",
      "[2, 1, 4]\n",
      "[1, 0, 5]\n",
      "[2, 1, 4]\n",
      "[1, 0, 6]\n",
      "[1, 0, 5]\n",
      "[1, 0, 6]\n"
     ]
    }
   ],
   "source": [
    "for i in range(50):\n",
    "    print(gw.get_next_state(0.2, [1,1,5], ['forward', 'no rotation']))\n",
    "    "
   ]
  },
  {
   "cell_type": "code",
   "execution_count": 8,
   "metadata": {
    "collapsed": true
   },
   "outputs": [
    {
     "name": "stdout",
     "output_type": "stream",
     "text": [
      "[1, 0, 5]\n",
      "[1, 0, 5]\n",
      "[1, 0, 5]\n",
      "[1, 0, 5]\n",
      "[1, 0, 5]\n",
      "[1, 0, 5]\n",
      "[1, 0, 5]\n",
      "[1, 0, 5]\n",
      "[1, 0, 5]\n",
      "[1, 0, 5]\n",
      "[1, 0, 5]\n",
      "[1, 0, 5]\n",
      "[1, 0, 5]\n",
      "[1, 0, 5]\n",
      "[1, 0, 5]\n",
      "[1, 0, 5]\n",
      "[1, 0, 5]\n",
      "[1, 0, 5]\n",
      "[1, 0, 5]\n",
      "[1, 0, 5]\n",
      "[1, 0, 5]\n",
      "[1, 0, 5]\n",
      "[1, 0, 5]\n",
      "[1, 0, 5]\n",
      "[1, 0, 5]\n",
      "[1, 0, 5]\n",
      "[1, 0, 5]\n",
      "[1, 0, 5]\n",
      "[1, 0, 5]\n",
      "[1, 0, 5]\n",
      "[1, 0, 5]\n",
      "[1, 0, 5]\n",
      "[1, 0, 5]\n",
      "[1, 0, 5]\n",
      "[1, 0, 5]\n",
      "[1, 0, 5]\n",
      "[1, 0, 5]\n",
      "[1, 0, 5]\n",
      "[1, 0, 5]\n",
      "[1, 0, 5]\n",
      "[1, 0, 5]\n",
      "[1, 0, 5]\n",
      "[1, 0, 5]\n",
      "[1, 0, 5]\n",
      "[1, 0, 5]\n",
      "[1, 0, 5]\n",
      "[1, 0, 5]\n",
      "[1, 0, 5]\n",
      "[1, 0, 5]\n",
      "[1, 0, 5]\n"
     ]
    }
   ],
   "source": [
    "for i in range(50):\n",
    "    print(gw.get_next_state(0, [1,1,5], ['forward', 'no rotation']))"
   ]
  },
  {
   "cell_type": "code",
   "execution_count": 9,
   "metadata": {},
   "outputs": [
    {
     "name": "stdout",
     "output_type": "stream",
     "text": [
      "[1, 2, 1]\n",
      "[0, 1, 11]\n",
      "[0, 1, 11]\n",
      "[0, 1, 11]\n",
      "[1, 2, 1]\n",
      "[1, 2, 1]\n",
      "[1, 2, 1]\n",
      "[1, 2, 1]\n",
      "[0, 1, 11]\n",
      "[1, 2, 1]\n",
      "[1, 2, 1]\n",
      "[0, 1, 11]\n",
      "[0, 1, 11]\n",
      "[0, 1, 11]\n",
      "[0, 1, 11]\n",
      "[0, 1, 11]\n",
      "[0, 1, 11]\n",
      "[0, 1, 11]\n",
      "[0, 1, 11]\n",
      "[1, 2, 1]\n",
      "[1, 2, 1]\n",
      "[1, 2, 1]\n",
      "[1, 2, 1]\n",
      "[0, 1, 11]\n",
      "[0, 1, 11]\n",
      "[0, 1, 11]\n",
      "[1, 2, 1]\n",
      "[0, 1, 11]\n",
      "[0, 1, 11]\n",
      "[0, 1, 11]\n",
      "[1, 2, 1]\n",
      "[0, 1, 11]\n",
      "[1, 2, 1]\n",
      "[0, 1, 11]\n",
      "[1, 2, 1]\n",
      "[1, 2, 1]\n",
      "[1, 2, 1]\n",
      "[1, 2, 1]\n",
      "[0, 1, 11]\n",
      "[0, 1, 11]\n",
      "[1, 2, 1]\n",
      "[0, 1, 11]\n",
      "[0, 1, 11]\n",
      "[1, 2, 1]\n",
      "[0, 1, 11]\n",
      "[1, 2, 1]\n",
      "[0, 1, 11]\n",
      "[0, 1, 11]\n",
      "[0, 1, 11]\n",
      "[0, 1, 11]\n"
     ]
    }
   ],
   "source": [
    "for i in range(50):\n",
    "    print(gw.get_next_state(0.5, [1,1,11], ['forward', 'right']))"
   ]
  },
  {
   "cell_type": "code",
   "execution_count": 4,
   "metadata": {},
   "outputs": [
    {
     "data": {
      "text/plain": [
       "[[0, 1, 11, 0.8], [0, 1, 0, 0.1], [0, 1, 10, 0.1]]"
      ]
     },
     "execution_count": 4,
     "metadata": {},
     "output_type": "execute_result"
    }
   ],
   "source": [
    "x = gw.non_zero_prob(0.1, [0,0,0], ['forward', 'left'])\n",
    "x"
   ]
  },
  {
   "cell_type": "code",
   "execution_count": 5,
   "metadata": {},
   "outputs": [
    {
     "data": {
      "text/plain": [
       "[0, 1, 11, 0.8]"
      ]
     },
     "execution_count": 5,
     "metadata": {},
     "output_type": "execute_result"
    }
   ],
   "source": [
    "x[0]"
   ]
  },
  {
   "cell_type": "code",
   "execution_count": 6,
   "metadata": {},
   "outputs": [
    {
     "data": {
      "text/plain": [
       "0"
      ]
     },
     "execution_count": 6,
     "metadata": {},
     "output_type": "execute_result"
    }
   ],
   "source": [
    "x[0][0]"
   ]
  },
  {
   "cell_type": "code",
   "execution_count": 9,
   "metadata": {},
   "outputs": [
    {
     "data": {
      "text/plain": [
       "[[0, 1, 11, 0.8], [0, 1, 0, 0.1], [0, 1, 10, 0.1]]"
      ]
     },
     "execution_count": 9,
     "metadata": {},
     "output_type": "execute_result"
    }
   ],
   "source": [
    "[i for i in x]"
   ]
  },
  {
   "cell_type": "code",
   "execution_count": null,
   "metadata": {},
   "outputs": [],
   "source": []
  }
 ],
 "metadata": {
  "kernelspec": {
   "display_name": "Python 2",
   "language": "python",
   "name": "python2"
  },
  "language_info": {
   "codemirror_mode": {
    "name": "ipython",
    "version": 2
   },
   "file_extension": ".py",
   "mimetype": "text/x-python",
   "name": "python",
   "nbconvert_exporter": "python",
   "pygments_lexer": "ipython2",
   "version": "2.7.5"
  }
 },
 "nbformat": 4,
 "nbformat_minor": 2
}

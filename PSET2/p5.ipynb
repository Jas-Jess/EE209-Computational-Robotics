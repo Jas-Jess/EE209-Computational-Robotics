{
 "cells": [
  {
   "cell_type": "code",
   "execution_count": 1,
   "metadata": {},
   "outputs": [],
   "source": [
    "from p3_ import PolicyIteration\n",
    "import time"
   ]
  },
  {
   "cell_type": "code",
   "execution_count": 2,
   "metadata": {},
   "outputs": [],
   "source": [
    "pi = PolicyIteration()"
   ]
  },
  {
   "cell_type": "code",
   "execution_count": 3,
   "metadata": {},
   "outputs": [
    {
     "name": "stdout",
     "output_type": "stream",
     "text": [
      "--- 81.2890000343 seconds ---\n",
      "--- 81.3910000324 seconds ---\n"
     ]
    },
    {
     "data": {
      "image/png": "[encoded data removed]",
      "text/plain": [
       "<matplotlib.figure.Figure at 0xa346370>"
      ]
     },
     "metadata": {},
     "output_type": "display_data"
    }
   ],
   "source": [
    "start_time = time.time()\n",
    "pi.solve_optimal_policy(discount = 0.9, Pe = 0.25)\n",
    "print(\"--- %s seconds ---\" % (time.time() - start_time))\n",
    "pi.plot_trajectory([1,4,6], Pe = 0.25)\n",
    "print(\"--- %s seconds ---\" % (time.time() - start_time))"
   ]
  },
  {
   "cell_type": "markdown",
   "metadata": {},
   "source": [
    "Seems like no action is optimal reward value. "
   ]
  },
  {
   "cell_type": "code",
   "execution_count": null,
   "metadata": {},
   "outputs": [],
   "source": [
    "# Testing out higher discount\n",
    "start_time = time.time()\n",
    "pi.solve_optimal_policy(discount = 0.99, Pe = 0.25)\n",
    "print(\"--- %s seconds ---\" % (time.time() - start_time))\n",
    "pi.plot_trajectory([1,4,6], Pe = 0.25)\n",
    "print(\"--- %s seconds ---\" % (time.time() - start_time))"
   ]
  },
  {
   "cell_type": "code",
   "execution_count": null,
   "metadata": {},
   "outputs": [],
   "source": [
    "# Testing out different reward grid\n",
    "pi = PolicyIteration()\n",
    "pi.reward_grid_5a()\n"
   ]
  },
  {
   "cell_type": "code",
   "execution_count": null,
   "metadata": {},
   "outputs": [],
   "source": [
    "start_time = time.time()\n",
    "pi.solve_optimal_policy(discount = 0.9, Pe = 0.25)\n",
    "print(\"--- %s seconds ---\" % (time.time() - start_time))\n",
    "pi.plot_trajectory([1,4,6], Pe = 0.25)\n",
    "print(\"--- %s seconds ---\" % (time.time() - start_time))"
   ]
  }
 ],
 "metadata": {
  "kernelspec": {
   "display_name": "Python 2",
   "language": "python",
   "name": "python2"
  },
  "language_info": {
   "codemirror_mode": {
    "name": "ipython",
    "version": 2
   },
   "file_extension": ".py",
   "mimetype": "text/x-python",
   "name": "python",
   "nbconvert_exporter": "python",
   "pygments_lexer": "ipython2",
   "version": "2.7.5"
  }
 },
 "nbformat": 4,
 "nbformat_minor": 2
}

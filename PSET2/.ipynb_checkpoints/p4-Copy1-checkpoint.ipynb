{
 "cells": [
  {
   "cell_type": "code",
   "execution_count": 1,
   "metadata": {},
   "outputs": [],
   "source": [
    "from p4 import ValueIteration\n",
    "import time"
   ]
  },
  {
   "cell_type": "code",
   "execution_count": 2,
   "metadata": {},
   "outputs": [],
   "source": [
    "vi = ValueIteration()"
   ]
  },
  {
   "cell_type": "code",
   "execution_count": 3,
   "metadata": {},
   "outputs": [
    {
     "name": "stdout",
     "output_type": "stream",
     "text": [
      "--- 0.0299999713898 seconds ---\n"
     ]
    }
   ],
   "source": [
    "start_time = time.time()\n",
    "vi.preallocate_Tprob(1)\n",
    "print(\"--- %s seconds ---\" % (time.time() - start_time))"
   ]
  },
  {
   "cell_type": "code",
   "execution_count": 5,
   "metadata": {},
   "outputs": [
    {
     "data": {
      "text/plain": [
       "[['forward', 'right'], [[0, 1, 1, -1.0], [0, 1, 2, 1], [0, 1, 0, 1]]]"
      ]
     },
     "execution_count": 5,
     "metadata": {},
     "output_type": "execute_result"
    }
   ],
   "source": [
    "vi.T[0][0]"
   ]
  },
  {
   "cell_type": "code",
   "execution_count": 6,
   "metadata": {},
   "outputs": [
    {
     "data": {
      "text/plain": [
       "[[0, 1, 1, -1.0], [0, 1, 2, 1], [0, 1, 0, 1]]"
      ]
     },
     "execution_count": 6,
     "metadata": {},
     "output_type": "execute_result"
    }
   ],
   "source": [
    "vi.T[0][0][1]"
   ]
  },
  {
   "cell_type": "code",
   "execution_count": 7,
   "metadata": {},
   "outputs": [
    {
     "data": {
      "text/plain": [
       "[0, 1, 2, 1]"
      ]
     },
     "execution_count": 7,
     "metadata": {},
     "output_type": "execute_result"
    }
   ],
   "source": [
    "vi.T[0][0][1][1]"
   ]
  },
  {
   "cell_type": "code",
   "execution_count": 8,
   "metadata": {},
   "outputs": [
    {
     "data": {
      "text/plain": [
       "7"
      ]
     },
     "execution_count": 8,
     "metadata": {},
     "output_type": "execute_result"
    }
   ],
   "source": [
    "len(vi.T[0])"
   ]
  },
  {
   "cell_type": "code",
   "execution_count": 9,
   "metadata": {},
   "outputs": [
    {
     "data": {
      "text/plain": [
       "3"
      ]
     },
     "execution_count": 9,
     "metadata": {},
     "output_type": "execute_result"
    }
   ],
   "source": [
    "len(vi.T[0][0][1])"
   ]
  },
  {
   "cell_type": "code",
   "execution_count": 10,
   "metadata": {},
   "outputs": [
    {
     "data": {
      "text/plain": [
       "[[['forward', 'right'], [[0, 1, 1, -1.0], [0, 1, 2, 1], [0, 1, 0, 1]]],\n",
       " [['forward', 'left'], [[0, 1, 11, -1.0], [0, 1, 0, 1], [0, 1, 10, 1]]],\n",
       " [['backward', 'right'], [[0, 0, 1, -1.0], [0, 0, 2, 1], [0, 0, 0, 1]]],\n",
       " [['backward', 'left'], [[0, 0, 11, -1.0], [0, 0, 0, 1], [0, 0, 10, 1]]],\n",
       " [['forward', 'no rotation'], [[0, 1, 0, -1.0], [0, 1, 1, 1], [0, 1, 11, 1]]],\n",
       " [['backward', 'no rotation'], [[0, 0, 0, -1.0], [0, 0, 1, 1], [0, 0, 11, 1]]],\n",
       " [['no action', ''], [0, 0, 0, 1]]]"
      ]
     },
     "execution_count": 10,
     "metadata": {},
     "output_type": "execute_result"
    }
   ],
   "source": [
    "[t for t in (vi.T[0])]"
   ]
  },
  {
   "cell_type": "code",
   "execution_count": 11,
   "metadata": {},
   "outputs": [
    {
     "data": {
      "text/plain": [
       "[0, 1, 2]"
      ]
     },
     "execution_count": 11,
     "metadata": {},
     "output_type": "execute_result"
    }
   ],
   "source": [
    "vi.T[0][0][1][1][0:3]"
   ]
  },
  {
   "cell_type": "code",
   "execution_count": 4,
   "metadata": {},
   "outputs": [
    {
     "name": "stdout",
     "output_type": "stream",
     "text": [
      "--- 44.6109998226 seconds ---\n",
      "--- 44.6529998779 seconds ---\n"
     ]
    },
    {
     "data": {
      "image/png": "[encoded data removed]",
      "text/plain": [
       "<matplotlib.figure.Figure at 0xa045370>"
      ]
     },
     "metadata": {},
     "output_type": "display_data"
    }
   ],
   "source": [
    "start_time = time.time()\n",
    "vi.solve_optimal_policy(discount = 0.9)\n",
    "print(\"--- %s seconds ---\" % (time.time() - start_time))\n",
    "vi.plot_trajectory([1,4,6])\n",
    "print(\"--- %s seconds ---\" % (time.time() - start_time))"
   ]
  },
  {
   "cell_type": "code",
   "execution_count": 5,
   "metadata": {
    "scrolled": true
   },
   "outputs": [
    {
     "name": "stdout",
     "output_type": "stream",
     "text": [
      "--- 51.8140001297 seconds ---\n",
      "--- 51.8980000019 seconds ---\n"
     ]
    },
    {
     "data": {
      "image/png": "[encoded data removed]",
      "text/plain": [
       "<matplotlib.figure.Figure at 0xa3916b0>"
      ]
     },
     "metadata": {},
     "output_type": "display_data"
    }
   ],
   "source": [
    "start_time = time.time()\n",
    "vi.solve_optimal_policy(discount = 0.9)\n",
    "print(\"--- %s seconds ---\" % (time.time() - start_time))\n",
    "vi.plot_trajectory([0,4,6])\n",
    "print(\"--- %s seconds ---\" % (time.time() - start_time))"
   ]
  },
  {
   "cell_type": "markdown",
   "metadata": {},
   "source": [
    "# Question :O "
   ]
  },
  {
   "cell_type": "code",
   "execution_count": 3,
   "metadata": {
    "collapsed": true
   },
   "outputs": [
    {
     "ename": "NameError",
     "evalue": "global name 'Pe' is not defined",
     "output_type": "error",
     "traceback": [
      "\u001b[1;31m---------------------------------------------------------------------------\u001b[0m",
      "\u001b[1;31mNameError\u001b[0m                                 Traceback (most recent call last)",
      "\u001b[1;32m<ipython-input-3-5332fba02ed7>\u001b[0m in \u001b[0;36m<module>\u001b[1;34m()\u001b[0m\n\u001b[0;32m      1\u001b[0m \u001b[0mstart_time\u001b[0m \u001b[1;33m=\u001b[0m \u001b[0mtime\u001b[0m\u001b[1;33m.\u001b[0m\u001b[0mtime\u001b[0m\u001b[1;33m(\u001b[0m\u001b[1;33m)\u001b[0m\u001b[1;33m\u001b[0m\u001b[0m\n\u001b[1;32m----> 2\u001b[1;33m \u001b[0mvi\u001b[0m\u001b[1;33m.\u001b[0m\u001b[0msolve_optimal_policy\u001b[0m\u001b[1;33m(\u001b[0m\u001b[0mdiscount\u001b[0m \u001b[1;33m=\u001b[0m \u001b[1;36m0.9\u001b[0m\u001b[1;33m)\u001b[0m\u001b[1;33m\u001b[0m\u001b[0m\n\u001b[0m\u001b[0;32m      3\u001b[0m \u001b[1;32mprint\u001b[0m\u001b[1;33m(\u001b[0m\u001b[1;34m\"--- %s seconds ---\"\u001b[0m \u001b[1;33m%\u001b[0m \u001b[1;33m(\u001b[0m\u001b[0mtime\u001b[0m\u001b[1;33m.\u001b[0m\u001b[0mtime\u001b[0m\u001b[1;33m(\u001b[0m\u001b[1;33m)\u001b[0m \u001b[1;33m-\u001b[0m \u001b[0mstart_time\u001b[0m\u001b[1;33m)\u001b[0m\u001b[1;33m)\u001b[0m\u001b[1;33m\u001b[0m\u001b[0m\n\u001b[0;32m      4\u001b[0m \u001b[0mvi\u001b[0m\u001b[1;33m.\u001b[0m\u001b[0mplot_trajectory\u001b[0m\u001b[1;33m(\u001b[0m\u001b[1;33m[\u001b[0m\u001b[1;36m1\u001b[0m\u001b[1;33m,\u001b[0m\u001b[1;36m4\u001b[0m\u001b[1;33m,\u001b[0m\u001b[1;36m8\u001b[0m\u001b[1;33m]\u001b[0m\u001b[1;33m)\u001b[0m\u001b[1;33m\u001b[0m\u001b[0m\n\u001b[0;32m      5\u001b[0m \u001b[1;32mprint\u001b[0m\u001b[1;33m(\u001b[0m\u001b[1;34m\"--- %s seconds ---\"\u001b[0m \u001b[1;33m%\u001b[0m \u001b[1;33m(\u001b[0m\u001b[0mtime\u001b[0m\u001b[1;33m.\u001b[0m\u001b[0mtime\u001b[0m\u001b[1;33m(\u001b[0m\u001b[1;33m)\u001b[0m \u001b[1;33m-\u001b[0m \u001b[0mstart_time\u001b[0m\u001b[1;33m)\u001b[0m\u001b[1;33m)\u001b[0m\u001b[1;33m\u001b[0m\u001b[0m\n",
      "\u001b[1;32mC:\\Users\\Jasmine Moreno\\Documents\\GitHub\\EE209-Computational-Robotics\\PSET2\\p4.py\u001b[0m in \u001b[0;36msolve_optimal_policy\u001b[1;34m(self, discount)\u001b[0m\n\u001b[0;32m    117\u001b[0m                         \u001b[0mdiscount\u001b[0m \u001b[0mwill\u001b[0m \u001b[0mbe\u001b[0m \u001b[0mless\u001b[0m \u001b[0mthan\u001b[0m \u001b[0mone\u001b[0m\u001b[1;33m\u001b[0m\u001b[0m\n\u001b[0;32m    118\u001b[0m \t\t'''\n\u001b[1;32m--> 119\u001b[1;33m                 \u001b[0mself\u001b[0m\u001b[1;33m.\u001b[0m\u001b[0mgw\u001b[0m\u001b[1;33m.\u001b[0m\u001b[0mPe\u001b[0m \u001b[1;33m=\u001b[0m \u001b[0mPe\u001b[0m\u001b[1;33m\u001b[0m\u001b[0m\n\u001b[0m\u001b[0;32m    120\u001b[0m                 \u001b[0mself\u001b[0m\u001b[1;33m.\u001b[0m\u001b[0mpreallocate_Tprob\u001b[0m\u001b[1;33m(\u001b[0m\u001b[0mPe\u001b[0m\u001b[1;33m)\u001b[0m\u001b[1;33m\u001b[0m\u001b[0m\n\u001b[0;32m    121\u001b[0m \u001b[1;33m\u001b[0m\u001b[0m\n",
      "\u001b[1;31mNameError\u001b[0m: global name 'Pe' is not defined"
     ]
    }
   ],
   "source": [
    "start_time = time.time()\n",
    "vi.solve_optimal_policy(discount = 0.9)\n",
    "print(\"--- %s seconds ---\" % (time.time() - start_time))\n",
    "vi.plot_trajectory([1,4,8])\n",
    "print(\"--- %s seconds ---\" % (time.time() - start_time))"
   ]
  },
  {
   "cell_type": "code",
   "execution_count": 11,
   "metadata": {
    "collapsed": true
   },
   "outputs": [
    {
     "data": {
      "text/plain": [
       "[[(0, 0, 0), ['backward', 'right']],\n",
       " [(0, 0, 1), ['forward', 'right']],\n",
       " [(0, 0, 2), ['forward', 'left']],\n",
       " [(0, 0, 3), ['forward', 'right']],\n",
       " [(0, 0, 4), ['forward', 'right']],\n",
       " [(0, 0, 5), ['backward', 'left']],\n",
       " [(0, 0, 6), ['forward', 'right']],\n",
       " [(0, 0, 7), ['backward', 'right']],\n",
       " [(0, 0, 8), ['backward', 'left']],\n",
       " [(0, 0, 9), ['backward', 'right']],\n",
       " [(0, 0, 10), ['backward', 'right']],\n",
       " [(0, 0, 11), ['forward', 'left']],\n",
       " [(0, 1, 0), ['forward', 'right']],\n",
       " [(0, 1, 1), ['forward', 'right']],\n",
       " [(0, 1, 2), ['forward', 'right']],\n",
       " [(0, 1, 3), ['forward', 'right']],\n",
       " [(0, 1, 4), ['forward', 'left']],\n",
       " [(0, 1, 5), ['backward', 'left']],\n",
       " [(0, 1, 6), ['backward', 'right']],\n",
       " [(0, 1, 7), ['backward', 'right']],\n",
       " [(0, 1, 8), ['backward', 'right']],\n",
       " [(0, 1, 9), ['backward', 'right']],\n",
       " [(0, 1, 10), ['backward', 'left']],\n",
       " [(0, 1, 11), ['forward', 'left']],\n",
       " [(0, 2, 0), ['forward', 'right']],\n",
       " [(0, 2, 1), ['backward', 'right']],\n",
       " [(0, 2, 2), ['forward', 'left']],\n",
       " [(0, 2, 3), ['forward', 'right']],\n",
       " [(0, 2, 4), ['forward', 'right']],\n",
       " [(0, 2, 5), ['forward', 'left']],\n",
       " [(0, 2, 6), ['backward', 'right']],\n",
       " [(0, 2, 7), ['forward', 'right']],\n",
       " [(0, 2, 8), ['backward', 'left']],\n",
       " [(0, 2, 9), ['backward', 'right']],\n",
       " [(0, 2, 10), ['backward', 'right']],\n",
       " [(0, 2, 11), ['backward', 'left']],\n",
       " [(0, 3, 0), ['backward', 'right']],\n",
       " [(0, 3, 1), ['backward', 'right']],\n",
       " [(0, 3, 2), ['forward', 'left']],\n",
       " [(0, 3, 3), ['forward', 'right']],\n",
       " [(0, 3, 4), ['forward', 'right']],\n",
       " [(0, 3, 5), ['forward', 'left']],\n",
       " [(0, 3, 6), ['forward', 'right']],\n",
       " [(0, 3, 7), ['forward', 'right']],\n",
       " [(0, 3, 8), ['backward', 'left']],\n",
       " [(0, 3, 9), ['backward', 'right']],\n",
       " [(0, 3, 10), ['backward', 'right']],\n",
       " [(0, 3, 11), ['backward', 'left']],\n",
       " [(0, 4, 0), ['backward', 'right']],\n",
       " [(0, 4, 1), ['backward', 'right']],\n",
       " [(0, 4, 2), ['forward', 'left']],\n",
       " [(0, 4, 3), ['forward', 'right']],\n",
       " [(0, 4, 4), ['forward', 'right']],\n",
       " [(0, 4, 5), ['forward', 'left']],\n",
       " [(0, 4, 6), ['forward', 'right']],\n",
       " [(0, 4, 7), ['forward', 'right']],\n",
       " [(0, 4, 8), ['backward', 'left']],\n",
       " [(0, 4, 9), ['backward', 'right']],\n",
       " [(0, 4, 10), ['backward', 'right']],\n",
       " [(0, 4, 11), ['backward', 'left']],\n",
       " [(0, 5, 0), ['backward', 'right']],\n",
       " [(0, 5, 1), ['backward', 'right']],\n",
       " [(0, 5, 2), ['forward', 'left']],\n",
       " [(0, 5, 3), ['backward', 'right']],\n",
       " [(0, 5, 4), ['forward', 'right']],\n",
       " [(0, 5, 5), ['forward', 'left']],\n",
       " [(0, 5, 6), ['forward', 'right']],\n",
       " [(0, 5, 7), ['forward', 'right']],\n",
       " [(0, 5, 8), ['backward', 'left']],\n",
       " [(0, 5, 9), ['forward', 'right']],\n",
       " [(0, 5, 10), ['backward', 'right']],\n",
       " [(0, 5, 11), ['backward', 'left']],\n",
       " [(1, 0, 0), ['forward', 'right']],\n",
       " [(1, 0, 1), ['forward', 'right']],\n",
       " [(1, 0, 2), ['forward', 'left']],\n",
       " [(1, 0, 3), ['forward', 'right']],\n",
       " [(1, 0, 4), ['forward', 'right']],\n",
       " [(1, 0, 5), ['backward', 'left']],\n",
       " [(1, 0, 6), ['backward', 'right']],\n",
       " [(1, 0, 7), ['backward', 'right']],\n",
       " [(1, 0, 8), ['backward', 'left']],\n",
       " [(1, 0, 9), ['backward', 'right']],\n",
       " [(1, 0, 10), ['backward', 'right']],\n",
       " [(1, 0, 11), ['forward', 'left']],\n",
       " [(1, 1, 0), ['forward', 'right']],\n",
       " [(1, 1, 1), ['forward', 'no rotation']],\n",
       " [(1, 1, 2), ['forward', 'no rotation']],\n",
       " [(1, 1, 3), ['forward', 'right']],\n",
       " [(1, 1, 4), ['forward', 'no rotation']],\n",
       " [(1, 1, 5), ['backward', 'no rotation']],\n",
       " [(1, 1, 6), ['backward', 'right']],\n",
       " [(1, 1, 7), ['backward', 'no rotation']],\n",
       " [(1, 1, 8), ['backward', 'no rotation']],\n",
       " [(1, 1, 9), ['backward', 'right']],\n",
       " [(1, 1, 10), ['backward', 'no rotation']],\n",
       " [(1, 1, 11), ['forward', 'no rotation']],\n",
       " [(1, 2, 0), ['forward', 'right']],\n",
       " [(1, 2, 1), ['backward', 'right']],\n",
       " [(1, 2, 2), ['no action', '']],\n",
       " [(1, 2, 3), ['no action', '']],\n",
       " [(1, 2, 4), ['no action', '']],\n",
       " [(1, 2, 5), ['forward', 'left']],\n",
       " [(1, 2, 6), ['backward', 'right']],\n",
       " [(1, 2, 7), ['forward', 'right']],\n",
       " [(1, 2, 8), ['no action', '']],\n",
       " [(1, 2, 9), ['no action', '']],\n",
       " [(1, 2, 10), ['no action', '']],\n",
       " [(1, 2, 11), ['backward', 'left']],\n",
       " [(1, 3, 0), ['backward', 'right']],\n",
       " [(1, 3, 1), ['backward', 'no rotation']],\n",
       " [(1, 3, 2), ['no action', '']],\n",
       " [(1, 3, 3), ['no action', '']],\n",
       " [(1, 3, 4), ['no action', '']],\n",
       " [(1, 3, 5), ['forward', 'no rotation']],\n",
       " [(1, 3, 6), ['forward', 'right']],\n",
       " [(1, 3, 7), ['forward', 'no rotation']],\n",
       " [(1, 3, 8), ['no action', '']],\n",
       " [(1, 3, 9), ['no action', '']],\n",
       " [(1, 3, 10), ['no action', '']],\n",
       " [(1, 3, 11), ['backward', 'no rotation']],\n",
       " [(1, 4, 0), ['backward', 'right']],\n",
       " [(1, 4, 1), ['backward', 'left']],\n",
       " [(1, 4, 2), ['no action', '']],\n",
       " [(1, 4, 3), ['no action', '']],\n",
       " [(1, 4, 4), ['no action', '']],\n",
       " [(1, 4, 5), ['forward', 'right']],\n",
       " [(1, 4, 6), ['forward', 'right']],\n",
       " [(1, 4, 7), ['forward', 'left']],\n",
       " [(1, 4, 8), ['no action', '']],\n",
       " [(1, 4, 9), ['no action', '']],\n",
       " [(1, 4, 10), ['no action', '']],\n",
       " [(1, 4, 11), ['backward', 'right']],\n",
       " [(1, 5, 0), ['backward', 'right']],\n",
       " [(1, 5, 1), ['backward', 'left']],\n",
       " [(1, 5, 2), ['forward', 'left']],\n",
       " [(1, 5, 3), ['forward', 'right']],\n",
       " [(1, 5, 4), ['forward', 'right']],\n",
       " [(1, 5, 5), ['forward', 'right']],\n",
       " [(1, 5, 6), ['forward', 'right']],\n",
       " [(1, 5, 7), ['forward', 'left']],\n",
       " [(1, 5, 8), ['backward', 'left']],\n",
       " [(1, 5, 9), ['backward', 'right']],\n",
       " [(1, 5, 10), ['backward', 'right']],\n",
       " [(1, 5, 11), ['backward', 'right']],\n",
       " [(2, 0, 0), ['forward', 'right']],\n",
       " [(2, 0, 1), ['forward', 'right']],\n",
       " [(2, 0, 2), ['forward', 'left']],\n",
       " [(2, 0, 3), ['forward', 'right']],\n",
       " [(2, 0, 4), ['forward', 'right']],\n",
       " [(2, 0, 5), ['backward', 'left']],\n",
       " [(2, 0, 6), ['backward', 'right']],\n",
       " [(2, 0, 7), ['backward', 'right']],\n",
       " [(2, 0, 8), ['backward', 'left']],\n",
       " [(2, 0, 9), ['backward', 'right']],\n",
       " [(2, 0, 10), ['backward', 'right']],\n",
       " [(2, 0, 11), ['forward', 'left']],\n",
       " [(2, 1, 0), ['no action', '']],\n",
       " [(2, 1, 1), ['no action', '']],\n",
       " [(2, 1, 2), ['forward', 'left']],\n",
       " [(2, 1, 3), ['forward', 'right']],\n",
       " [(2, 1, 4), ['forward', 'right']],\n",
       " [(2, 1, 5), ['no action', '']],\n",
       " [(2, 1, 6), ['no action', '']],\n",
       " [(2, 1, 7), ['no action', '']],\n",
       " [(2, 1, 8), ['backward', 'left']],\n",
       " [(2, 1, 9), ['backward', 'right']],\n",
       " [(2, 1, 10), ['backward', 'right']],\n",
       " [(2, 1, 11), ['no action', '']],\n",
       " [(2, 2, 0), ['backward', 'right']],\n",
       " [(2, 2, 1), ['backward', 'right']],\n",
       " [(2, 2, 2), ['forward', 'left']],\n",
       " [(2, 2, 3), ['forward', 'right']],\n",
       " [(2, 2, 4), ['forward', 'right']],\n",
       " [(2, 2, 5), ['forward', 'left']],\n",
       " [(2, 2, 6), ['forward', 'right']],\n",
       " [(2, 2, 7), ['forward', 'right']],\n",
       " [(2, 2, 8), ['backward', 'left']],\n",
       " [(2, 2, 9), ['forward', 'right']],\n",
       " [(2, 2, 10), ['backward', 'right']],\n",
       " [(2, 2, 11), ['backward', 'left']],\n",
       " [(2, 3, 0), ['backward', 'right']],\n",
       " [(2, 3, 1), ['forward', 'right']],\n",
       " [(2, 3, 2), ['forward', 'left']],\n",
       " [(2, 3, 3), ['forward', 'right']],\n",
       " [(2, 3, 4), ['forward', 'right']],\n",
       " [(2, 3, 5), ['backward', 'left']],\n",
       " [(2, 3, 6), ['forward', 'right']],\n",
       " [(2, 3, 7), ['backward', 'right']],\n",
       " [(2, 3, 8), ['backward', 'left']],\n",
       " [(2, 3, 9), ['forward', 'right']],\n",
       " [(2, 3, 10), ['backward', 'right']],\n",
       " [(2, 3, 11), ['forward', 'left']],\n",
       " [(2, 4, 0), ['backward', 'right']],\n",
       " [(2, 4, 1), ['backward', 'right']],\n",
       " [(2, 4, 2), ['forward', 'right']],\n",
       " [(2, 4, 3), ['forward', 'right']],\n",
       " [(2, 4, 4), ['forward', 'right']],\n",
       " [(2, 4, 5), ['forward', 'left']],\n",
       " [(2, 4, 6), ['forward', 'right']],\n",
       " [(2, 4, 7), ['forward', 'right']],\n",
       " [(2, 4, 8), ['backward', 'right']],\n",
       " [(2, 4, 9), ['backward', 'right']],\n",
       " [(2, 4, 10), ['backward', 'right']],\n",
       " [(2, 4, 11), ['backward', 'left']],\n",
       " [(2, 5, 0), ['backward', 'right']],\n",
       " [(2, 5, 1), ['backward', 'right']],\n",
       " [(2, 5, 2), ['forward', 'left']],\n",
       " [(2, 5, 3), ['forward', 'right']],\n",
       " [(2, 5, 4), ['forward', 'right']],\n",
       " [(2, 5, 5), ['forward', 'left']],\n",
       " [(2, 5, 6), ['forward', 'right']],\n",
       " [(2, 5, 7), ['forward', 'right']],\n",
       " [(2, 5, 8), ['backward', 'left']],\n",
       " [(2, 5, 9), ['backward', 'right']],\n",
       " [(2, 5, 10), ['backward', 'right']],\n",
       " [(2, 5, 11), ['backward', 'left']],\n",
       " [(3, 0, 0), ['forward', 'right']],\n",
       " [(3, 0, 1), ['forward', 'left']],\n",
       " [(3, 0, 2), ['forward', 'left']],\n",
       " [(3, 0, 3), ['forward', 'right']],\n",
       " [(3, 0, 4), ['forward', 'right']],\n",
       " [(3, 0, 5), ['backward', 'right']],\n",
       " [(3, 0, 6), ['backward', 'right']],\n",
       " [(3, 0, 7), ['backward', 'left']],\n",
       " [(3, 0, 8), ['backward', 'left']],\n",
       " [(3, 0, 9), ['backward', 'right']],\n",
       " [(3, 0, 10), ['backward', 'right']],\n",
       " [(3, 0, 11), ['forward', 'right']],\n",
       " [(3, 1, 0), ['forward', 'right']],\n",
       " [(3, 1, 1), ['forward', 'left']],\n",
       " [(3, 1, 2), ['forward', 'no rotation']],\n",
       " [(3, 1, 3), ['forward', 'right']],\n",
       " [(3, 1, 4), ['forward', 'no rotation']],\n",
       " [(3, 1, 5), ['backward', 'right']],\n",
       " [(3, 1, 6), ['backward', 'right']],\n",
       " [(3, 1, 7), ['backward', 'left']],\n",
       " [(3, 1, 8), ['backward', 'no rotation']],\n",
       " [(3, 1, 9), ['backward', 'right']],\n",
       " [(3, 1, 10), ['backward', 'no rotation']],\n",
       " [(3, 1, 11), ['forward', 'right']],\n",
       " [(3, 2, 0), ['forward', 'right']],\n",
       " [(3, 2, 1), ['forward', 'left']],\n",
       " [(3, 2, 2), ['no action', '']],\n",
       " [(3, 2, 3), ['no action', '']],\n",
       " [(3, 2, 4), ['no action', '']],\n",
       " [(3, 2, 5), ['backward', 'right']],\n",
       " [(3, 2, 6), ['backward', 'right']],\n",
       " [(3, 2, 7), ['backward', 'left']],\n",
       " [(3, 2, 8), ['no action', '']],\n",
       " [(3, 2, 9), ['no action', '']],\n",
       " [(3, 2, 10), ['no action', '']],\n",
       " [(3, 2, 11), ['forward', 'right']],\n",
       " [(3, 3, 0), ['forward', 'right']],\n",
       " [(3, 3, 1), ['forward', 'right']],\n",
       " [(3, 3, 2), ['no action', '']],\n",
       " [(3, 3, 3), ['no action', '']],\n",
       " [(3, 3, 4), ['no action', '']],\n",
       " [(3, 3, 5), ['backward', 'right']],\n",
       " [(3, 3, 6), ['backward', 'right']],\n",
       " [(3, 3, 7), ['backward', 'right']],\n",
       " [(3, 3, 8), ['no action', '']],\n",
       " [(3, 3, 9), ['no action', '']],\n",
       " [(3, 3, 10), ['no action', '']],\n",
       " [(3, 3, 11), ['forward', 'right']],\n",
       " [(3, 4, 0), ['no action', '']],\n",
       " [(3, 4, 1), ['no action', '']],\n",
       " [(3, 4, 2), ['no action', '']],\n",
       " [(3, 4, 3), ['no action', '']],\n",
       " [(3, 4, 4), ['no action', '']],\n",
       " [(3, 4, 5), ['no action', '']],\n",
       " [(3, 4, 6), ['no action', '']],\n",
       " [(3, 4, 7), ['no action', '']],\n",
       " [(3, 4, 8), ['no action', '']],\n",
       " [(3, 4, 9), ['no action', '']],\n",
       " [(3, 4, 10), ['no action', '']],\n",
       " [(3, 4, 11), ['no action', '']],\n",
       " [(3, 5, 0), ['backward', 'right']],\n",
       " [(3, 5, 1), ['backward', 'right']],\n",
       " [(3, 5, 2), ['forward', 'left']],\n",
       " [(3, 5, 3), ['forward', 'right']],\n",
       " [(3, 5, 4), ['forward', 'right']],\n",
       " [(3, 5, 5), ['forward', 'right']],\n",
       " [(3, 5, 6), ['forward', 'right']],\n",
       " [(3, 5, 7), ['forward', 'right']],\n",
       " [(3, 5, 8), ['backward', 'left']],\n",
       " [(3, 5, 9), ['backward', 'right']],\n",
       " [(3, 5, 10), ['backward', 'right']],\n",
       " [(3, 5, 11), ['backward', 'right']],\n",
       " [(4, 0, 0), ['forward', 'right']],\n",
       " [(4, 0, 1), ['forward', 'right']],\n",
       " [(4, 0, 2), ['backward', 'left']],\n",
       " [(4, 0, 3), ['forward', 'right']],\n",
       " [(4, 0, 4), ['backward', 'right']],\n",
       " [(4, 0, 5), ['backward', 'left']],\n",
       " [(4, 0, 6), ['backward', 'right']],\n",
       " [(4, 0, 7), ['backward', 'right']],\n",
       " [(4, 0, 8), ['forward', 'left']],\n",
       " [(4, 0, 9), ['backward', 'right']],\n",
       " [(4, 0, 10), ['forward', 'right']],\n",
       " [(4, 0, 11), ['forward', 'left']],\n",
       " [(4, 1, 0), ['no action', '']],\n",
       " [(4, 1, 1), ['no action', '']],\n",
       " [(4, 1, 2), ['backward', 'left']],\n",
       " [(4, 1, 3), ['backward', 'right']],\n",
       " [(4, 1, 4), ['backward', 'right']],\n",
       " [(4, 1, 5), ['no action', '']],\n",
       " [(4, 1, 6), ['no action', '']],\n",
       " [(4, 1, 7), ['no action', '']],\n",
       " [(4, 1, 8), ['forward', 'left']],\n",
       " [(4, 1, 9), ['forward', 'right']],\n",
       " [(4, 1, 10), ['forward', 'right']],\n",
       " [(4, 1, 11), ['no action', '']],\n",
       " [(4, 2, 0), ['backward', 'right']],\n",
       " [(4, 2, 1), ['backward', 'right']],\n",
       " [(4, 2, 2), ['backward', 'left']],\n",
       " [(4, 2, 3), ['backward', 'right']],\n",
       " [(4, 2, 4), ['backward', 'right']],\n",
       " [(4, 2, 5), ['forward', 'left']],\n",
       " [(4, 2, 6), ['forward', 'right']],\n",
       " [(4, 2, 7), ['forward', 'right']],\n",
       " [(4, 2, 8), ['forward', 'left']],\n",
       " [(4, 2, 9), ['forward', 'right']],\n",
       " [(4, 2, 10), ['forward', 'right']],\n",
       " [(4, 2, 11), ['backward', 'left']],\n",
       " [(4, 3, 0), ['backward', 'right']],\n",
       " [(4, 3, 1), ['forward', 'right']],\n",
       " [(4, 3, 2), ['backward', 'left']],\n",
       " [(4, 3, 3), ['backward', 'right']],\n",
       " [(4, 3, 4), ['backward', 'right']],\n",
       " [(4, 3, 5), ['backward', 'left']],\n",
       " [(4, 3, 6), ['forward', 'right']],\n",
       " [(4, 3, 7), ['backward', 'right']],\n",
       " [(4, 3, 8), ['forward', 'left']],\n",
       " [(4, 3, 9), ['forward', 'right']],\n",
       " [(4, 3, 10), ['forward', 'right']],\n",
       " [(4, 3, 11), ['forward', 'left']],\n",
       " [(4, 4, 0), ['backward', 'right']],\n",
       " [(4, 4, 1), ['backward', 'right']],\n",
       " [(4, 4, 2), ['backward', 'right']],\n",
       " [(4, 4, 3), ['backward', 'right']],\n",
       " [(4, 4, 4), ['backward', 'right']],\n",
       " [(4, 4, 5), ['forward', 'left']],\n",
       " [(4, 4, 6), ['forward', 'right']],\n",
       " [(4, 4, 7), ['forward', 'right']],\n",
       " [(4, 4, 8), ['forward', 'right']],\n",
       " [(4, 4, 9), ['forward', 'right']],\n",
       " [(4, 4, 10), ['forward', 'right']],\n",
       " [(4, 4, 11), ['backward', 'left']],\n",
       " [(4, 5, 0), ['backward', 'right']],\n",
       " [(4, 5, 1), ['backward', 'right']],\n",
       " [(4, 5, 2), ['backward', 'left']],\n",
       " [(4, 5, 3), ['forward', 'right']],\n",
       " [(4, 5, 4), ['backward', 'right']],\n",
       " [(4, 5, 5), ['forward', 'left']],\n",
       " [(4, 5, 6), ['forward', 'right']],\n",
       " [(4, 5, 7), ['forward', 'right']],\n",
       " [(4, 5, 8), ['forward', 'left']],\n",
       " [(4, 5, 9), ['backward', 'right']],\n",
       " [(4, 5, 10), ['forward', 'right']],\n",
       " [(4, 5, 11), ['backward', 'left']],\n",
       " [(5, 0, 0), ['backward', 'right']],\n",
       " [(5, 0, 1), ['forward', 'right']],\n",
       " [(5, 0, 2), ['backward', 'left']],\n",
       " [(5, 0, 3), ['backward', 'right']],\n",
       " [(5, 0, 4), ['backward', 'right']],\n",
       " [(5, 0, 5), ['backward', 'left']],\n",
       " [(5, 0, 6), ['forward', 'right']],\n",
       " [(5, 0, 7), ['backward', 'right']],\n",
       " [(5, 0, 8), ['forward', 'left']],\n",
       " [(5, 0, 9), ['forward', 'right']],\n",
       " [(5, 0, 10), ['forward', 'right']],\n",
       " [(5, 0, 11), ['forward', 'left']],\n",
       " [(5, 1, 0), ['forward', 'right']],\n",
       " [(5, 1, 1), ['forward', 'right']],\n",
       " [(5, 1, 2), ['backward', 'no rotation']],\n",
       " [(5, 1, 3), ['backward', 'right']],\n",
       " [(5, 1, 4), ['backward', 'no rotation']],\n",
       " [(5, 1, 5), ['backward', 'left']],\n",
       " [(5, 1, 6), ['backward', 'right']],\n",
       " [(5, 1, 7), ['backward', 'right']],\n",
       " [(5, 1, 8), ['forward', 'no rotation']],\n",
       " [(5, 1, 9), ['forward', 'right']],\n",
       " [(5, 1, 10), ['forward', 'no rotation']],\n",
       " [(5, 1, 11), ['forward', 'left']],\n",
       " [(5, 2, 0), ['forward', 'right']],\n",
       " [(5, 2, 1), ['backward', 'right']],\n",
       " [(5, 2, 2), ['backward', 'no rotation']],\n",
       " [(5, 2, 3), ['backward', 'right']],\n",
       " [(5, 2, 4), ['backward', 'no rotation']],\n",
       " [(5, 2, 5), ['forward', 'left']],\n",
       " [(5, 2, 6), ['backward', 'right']],\n",
       " [(5, 2, 7), ['forward', 'right']],\n",
       " [(5, 2, 8), ['forward', 'no rotation']],\n",
       " [(5, 2, 9), ['forward', 'right']],\n",
       " [(5, 2, 10), ['forward', 'no rotation']],\n",
       " [(5, 2, 11), ['backward', 'left']],\n",
       " [(5, 3, 0), ['backward', 'right']],\n",
       " [(5, 3, 1), ['forward', 'right']],\n",
       " [(5, 3, 2), ['backward', 'no rotation']],\n",
       " [(5, 3, 3), ['backward', 'right']],\n",
       " [(5, 3, 4), ['backward', 'no rotation']],\n",
       " [(5, 3, 5), ['backward', 'left']],\n",
       " [(5, 3, 6), ['forward', 'right']],\n",
       " [(5, 3, 7), ['backward', 'right']],\n",
       " [(5, 3, 8), ['forward', 'no rotation']],\n",
       " [(5, 3, 9), ['forward', 'right']],\n",
       " [(5, 3, 10), ['forward', 'no rotation']],\n",
       " [(5, 3, 11), ['forward', 'left']],\n",
       " [(5, 4, 0), ['forward', 'right']],\n",
       " [(5, 4, 1), ['backward', 'right']],\n",
       " [(5, 4, 2), ['backward', 'right']],\n",
       " [(5, 4, 3), ['backward', 'right']],\n",
       " [(5, 4, 4), ['backward', 'left']],\n",
       " [(5, 4, 5), ['forward', 'left']],\n",
       " [(5, 4, 6), ['backward', 'right']],\n",
       " [(5, 4, 7), ['forward', 'right']],\n",
       " [(5, 4, 8), ['forward', 'right']],\n",
       " [(5, 4, 9), ['forward', 'right']],\n",
       " [(5, 4, 10), ['forward', 'left']],\n",
       " [(5, 4, 11), ['backward', 'left']],\n",
       " [(5, 5, 0), ['forward', 'right']],\n",
       " [(5, 5, 1), ['backward', 'right']],\n",
       " [(5, 5, 2), ['backward', 'left']],\n",
       " [(5, 5, 3), ['backward', 'right']],\n",
       " [(5, 5, 4), ['backward', 'right']],\n",
       " [(5, 5, 5), ['forward', 'left']],\n",
       " [(5, 5, 6), ['backward', 'right']],\n",
       " [(5, 5, 7), ['forward', 'right']],\n",
       " [(5, 5, 8), ['forward', 'left']],\n",
       " [(5, 5, 9), ['forward', 'right']],\n",
       " [(5, 5, 10), ['forward', 'right']],\n",
       " [(5, 5, 11), ['backward', 'left']]]"
      ]
     },
     "execution_count": 11,
     "metadata": {},
     "output_type": "execute_result"
    }
   ],
   "source": [
    "[[vi.gw.S[i],vi.policy[i]] for i in range(len(vi.policy))]"
   ]
  },
  {
   "cell_type": "code",
   "execution_count": null,
   "metadata": {},
   "outputs": [],
   "source": []
  }
 ],
 "metadata": {
  "kernelspec": {
   "display_name": "Python 2",
   "language": "python",
   "name": "python2"
  },
  "language_info": {
   "codemirror_mode": {
    "name": "ipython",
    "version": 2
   },
   "file_extension": ".py",
   "mimetype": "text/x-python",
   "name": "python",
   "nbconvert_exporter": "python",
   "pygments_lexer": "ipython2",
   "version": "2.7.5"
  }
 },
 "nbformat": 4,
 "nbformat_minor": 2
}

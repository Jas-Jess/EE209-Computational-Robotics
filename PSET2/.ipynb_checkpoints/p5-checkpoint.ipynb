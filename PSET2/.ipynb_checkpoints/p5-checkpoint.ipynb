{
 "cells": [
  {
   "cell_type": "code",
   "execution_count": 1,
   "metadata": {},
   "outputs": [],
   "source": [
    "from p3_ import PolicyIteration\n",
    "import time"
   ]
  },
  {
   "cell_type": "code",
   "execution_count": 5,
   "metadata": {},
   "outputs": [],
   "source": [
    "pi = PolicyIteration()"
   ]
  },
  {
   "cell_type": "code",
   "execution_count": 6,
   "metadata": {},
   "outputs": [
    {
     "name": "stdout",
     "output_type": "stream",
     "text": [
      "--- 60.2939999104 seconds ---\n",
      "--- 60.3289999962 seconds ---\n"
     ]
    },
    {
     "data": {
      "image/png": "[encoded data removed]",
      "text/plain": [
       "<matplotlib.figure.Figure at 0xa2bb270>"
      ]
     },
     "metadata": {},
     "output_type": "display_data"
    }
   ],
   "source": [
    "start_time = time.time()\n",
    "pi.solve_optimal_policy(discount = 0.9, Pe = 0.25)\n",
    "print(\"--- %s seconds ---\" % (time.time() - start_time))\n",
    "pi.plot_trajectory([1,4,6], Pe = 0.25)\n",
    "print(\"--- %s seconds ---\" % (time.time() - start_time))"
   ]
  },
  {
   "cell_type": "markdown",
   "metadata": {},
   "source": [
    "Seems like no action is optimal reward value. "
   ]
  },
  {
   "cell_type": "markdown",
   "metadata": {},
   "source": [
    "## Trying out a lower discount"
   ]
  },
  {
   "cell_type": "code",
   "execution_count": null,
   "metadata": {},
   "outputs": [],
   "source": [
    "pi1 = PolicyIteration()\n",
    "# Testing out lower discount\n",
    "start_time = time.time()\n",
    "pi1.solve_optimal_policy(discount = 0.7, Pe = 0.25)\n",
    "print(\"--- %s seconds ---\" % (time.time() - start_time))\n",
    "pi1.plot_trajectory([1,4,6], Pe = 0.25)\n",
    "print(\"--- %s seconds ---\" % (time.time() - start_time))"
   ]
  },
  {
   "cell_type": "code",
   "execution_count": null,
   "metadata": {},
   "outputs": [],
   "source": [
    "import numpy as np\n",
    "s_index = np.where((np.array(pi.gw.S) == [3,3,1]).all(axis=1))[0][0]\n",
    "pi.policy[s_index]"
   ]
  },
  {
   "cell_type": "markdown",
   "metadata": {},
   "source": [
    "Policy at \\[3,3,1\\] is no action, probably because it is scared to step on a -10"
   ]
  },
  {
   "cell_type": "code",
   "execution_count": null,
   "metadata": {},
   "outputs": [],
   "source": [
    "pi1 = PolicyIteration()\n",
    "# Testing out lower discount\n",
    "start_time = time.time()\n",
    "pi1.solve_optimal_policy(discount = 0.69, Pe = 0.25)\n",
    "print(\"--- %s seconds ---\" % (time.time() - start_time))\n",
    "pi1.plot_trajectory([1,4,6], Pe = 0.25)\n",
    "print(\"--- %s seconds ---\" % (time.time() - start_time))"
   ]
  },
  {
   "cell_type": "markdown",
   "metadata": {},
   "source": [
    "## Testing out different reward grids"
   ]
  },
  {
   "cell_type": "code",
   "execution_count": null,
   "metadata": {},
   "outputs": [],
   "source": [
    "# Testing out different reward grid\n",
    "pi1 = PolicyIteration()\n",
    "\n",
    "grid =  [\n",
    "         [-100, -100, -100, -100, -100, -100], \n",
    "         [-100,    0,  -8,   3,   -8, -100],\n",
    "         [-100,    0,  -8,   0,   -8, -100],\n",
    "         [-100,    0,  -8,   0,   -8, -100],\n",
    "         [-100,    0,    0,   0,     0, -100],\n",
    "         [-100, -100, -100, -100, -100, -100]\n",
    "        ]\n",
    "pi1.rg.reward_grid_5a(grid)\n",
    "\n",
    "start_time = time.time()\n",
    "pi1.solve_optimal_policy(discount = 0.7, Pe = 0.25)\n",
    "print(\"--- %s seconds ---\" % (time.time() - start_time))\n",
    "pi1.plot_trajectory([1,4,6], Pe = 0.25)\n",
    "print(\"--- %s seconds ---\" % (time.time() - start_time))"
   ]
  },
  {
   "cell_type": "code",
   "execution_count": null,
   "metadata": {},
   "outputs": [],
   "source": [
    "# Testing out different reward grid\n",
    "pi1 = PolicyIteration()\n",
    "\n",
    "grid =  [\n",
    "         [-100, -100, -100, -100, -100, -100], \n",
    "         [-100,    0,  -10,   3,   -10, -100],\n",
    "         [-100,    0,  -10,   0,   -10, -100],\n",
    "         [-100,    0,  -10,   0,   -10, -100],\n",
    "         [-100,    0,    0,   0,     0, -100],\n",
    "         [-100, -100, -100, -100, -100, -100]\n",
    "        ]\n",
    "pi1.rg.reward_grid_5a(grid)\n",
    "\n",
    "start_time = time.time()\n",
    "pi1.solve_optimal_policy(discount = 0.8, Pe = 0.25)\n",
    "print(\"--- %s seconds ---\" % (time.time() - start_time))\n",
    "pi1.plot_trajectory([1,4,6], Pe = 0.25)\n",
    "print(\"--- %s seconds ---\" % (time.time() - start_time))"
   ]
  },
  {
   "cell_type": "code",
   "execution_count": null,
   "metadata": {},
   "outputs": [],
   "source": [
    "# Testing out different reward grid\n",
    "pi1 = PolicyIteration()\n",
    "\n",
    "grid =  [\n",
    "         [-100, -100, -100, -100, -100, -100], \n",
    "         [-100,    0,  -9,   4,   -9, -100],\n",
    "         [-100,    0,  -9,   0,   -9, -100],\n",
    "         [-100,    0,  -9,   0,   -9, -100],\n",
    "         [-100,    0,    0,   0,     0, -100],\n",
    "         [-100, -100, -100, -100, -100, -100]\n",
    "        ]\n",
    "pi1.rg.reward_grid_5a(grid)\n",
    "\n",
    "start_time = time.time()\n",
    "pi1.solve_optimal_policy(discount = 0.7, Pe = 0.25)\n",
    "print(\"--- %s seconds ---\" % (time.time() - start_time))\n",
    "pi1.plot_trajectory([1,4,6], Pe = 0.25)\n",
    "print(\"--- %s seconds ---\" % (time.time() - start_time))"
   ]
  },
  {
   "cell_type": "markdown",
   "metadata": {},
   "source": [
    "# 5b"
   ]
  },
  {
   "cell_type": "code",
   "execution_count": null,
   "metadata": {},
   "outputs": [],
   "source": [
    "pi = PolicyIteration()\n",
    "pi.rw.set_goal = [3, 4, [5,6,7]]\n",
    "start_time = time.time()\n",
    "pi1.solve_optimal_policy(discount = 0.9, Pe = 0.25)\n",
    "print(\"--- %s seconds ---\" % (time.time() - start_time))\n",
    "pi1.plot_trajectory([1,4,6], Pe = 0.25)\n",
    "print(\"--- %s seconds ---\" % (time.time() - start_time))"
   ]
  }
 ],
 "metadata": {
  "kernelspec": {
   "display_name": "Python 2",
   "language": "python",
   "name": "python2"
  },
  "language_info": {
   "codemirror_mode": {
    "name": "ipython",
    "version": 2
   },
   "file_extension": ".py",
   "mimetype": "text/x-python",
   "name": "python",
   "nbconvert_exporter": "python",
   "pygments_lexer": "ipython2",
   "version": "2.7.5"
  }
 },
 "nbformat": 4,
 "nbformat_minor": 2
}
